{
 "cells": [
  {
   "cell_type": "markdown",
   "id": "c422b03f",
   "metadata": {},
   "source": [
    "# Biblioteca"
   ]
  },
  {
   "cell_type": "code",
   "execution_count": 9,
   "id": "ce061085",
   "metadata": {},
   "outputs": [],
   "source": [
    "import pandas as pd"
   ]
  },
  {
   "cell_type": "markdown",
   "id": "645fbfd6",
   "metadata": {},
   "source": [
    "## Gerando Dados"
   ]
  },
  {
   "cell_type": "code",
   "execution_count": 24,
   "id": "c9b1c8c2",
   "metadata": {},
   "outputs": [],
   "source": [
    "dados = pd.read_excel(\"vendas.xlsx\")"
   ]
  },
  {
   "cell_type": "code",
   "execution_count": 25,
   "id": "1e14e615",
   "metadata": {},
   "outputs": [
    {
     "data": {
      "text/html": [
       "<div>\n",
       "<style scoped>\n",
       "    .dataframe tbody tr th:only-of-type {\n",
       "        vertical-align: middle;\n",
       "    }\n",
       "\n",
       "    .dataframe tbody tr th {\n",
       "        vertical-align: top;\n",
       "    }\n",
       "\n",
       "    .dataframe thead th {\n",
       "        text-align: right;\n",
       "    }\n",
       "</style>\n",
       "<table border=\"1\" class=\"dataframe\">\n",
       "  <thead>\n",
       "    <tr style=\"text-align: right;\">\n",
       "      <th></th>\n",
       "      <th>id_pedido</th>\n",
       "      <th>data</th>\n",
       "      <th>loja</th>\n",
       "      <th>cidade</th>\n",
       "      <th>estado</th>\n",
       "      <th>regiao</th>\n",
       "      <th>tamanho</th>\n",
       "      <th>local_consumo</th>\n",
       "      <th>preco</th>\n",
       "      <th>forma_pagamento</th>\n",
       "      <th>ano_mes</th>\n",
       "    </tr>\n",
       "  </thead>\n",
       "  <tbody>\n",
       "    <tr>\n",
       "      <th>0</th>\n",
       "      <td>PED1994</td>\n",
       "      <td>2020-01-01</td>\n",
       "      <td>Loja 4</td>\n",
       "      <td>Santos</td>\n",
       "      <td>São Paulo</td>\n",
       "      <td>Sudeste</td>\n",
       "      <td>300ml</td>\n",
       "      <td>Consumo no local</td>\n",
       "      <td>5</td>\n",
       "      <td>Dinheiro</td>\n",
       "      <td>2020-01</td>\n",
       "    </tr>\n",
       "    <tr>\n",
       "      <th>1</th>\n",
       "      <td>PED2246</td>\n",
       "      <td>2020-01-01</td>\n",
       "      <td>Loja 6</td>\n",
       "      <td>Florianópolis</td>\n",
       "      <td>Santa Catarina</td>\n",
       "      <td>Sul</td>\n",
       "      <td>500ml</td>\n",
       "      <td>Consumo no local</td>\n",
       "      <td>11</td>\n",
       "      <td>Débito</td>\n",
       "      <td>2020-01</td>\n",
       "    </tr>\n",
       "    <tr>\n",
       "      <th>2</th>\n",
       "      <td>PED3876</td>\n",
       "      <td>2020-01-01</td>\n",
       "      <td>Loja 3</td>\n",
       "      <td>Rio de Janeiro</td>\n",
       "      <td>Rio de Janeiro</td>\n",
       "      <td>Sudeste</td>\n",
       "      <td>300ml</td>\n",
       "      <td>Delivery</td>\n",
       "      <td>7</td>\n",
       "      <td>Crédito</td>\n",
       "      <td>2020-01</td>\n",
       "    </tr>\n",
       "    <tr>\n",
       "      <th>3</th>\n",
       "      <td>PED4352</td>\n",
       "      <td>2020-01-01</td>\n",
       "      <td>Loja 1</td>\n",
       "      <td>Fortaleza</td>\n",
       "      <td>Ceará</td>\n",
       "      <td>Nordeste</td>\n",
       "      <td>1000ml</td>\n",
       "      <td>Consumo no local</td>\n",
       "      <td>7</td>\n",
       "      <td>Débito</td>\n",
       "      <td>2020-01</td>\n",
       "    </tr>\n",
       "    <tr>\n",
       "      <th>4</th>\n",
       "      <td>PED8633</td>\n",
       "      <td>2020-01-01</td>\n",
       "      <td>Loja 5</td>\n",
       "      <td>São Paulo</td>\n",
       "      <td>São Paulo</td>\n",
       "      <td>Sudeste</td>\n",
       "      <td>200ml</td>\n",
       "      <td>Delivery</td>\n",
       "      <td>9</td>\n",
       "      <td>Crédito</td>\n",
       "      <td>2020-01</td>\n",
       "    </tr>\n",
       "  </tbody>\n",
       "</table>\n",
       "</div>"
      ],
      "text/plain": [
       "  id_pedido       data    loja          cidade          estado    regiao  \\\n",
       "0   PED1994 2020-01-01  Loja 4          Santos       São Paulo   Sudeste   \n",
       "1   PED2246 2020-01-01  Loja 6   Florianópolis  Santa Catarina       Sul   \n",
       "2   PED3876 2020-01-01  Loja 3  Rio de Janeiro  Rio de Janeiro   Sudeste   \n",
       "3   PED4352 2020-01-01  Loja 1       Fortaleza           Ceará  Nordeste   \n",
       "4   PED8633 2020-01-01  Loja 5       São Paulo       São Paulo   Sudeste   \n",
       "\n",
       "  tamanho     local_consumo  preco forma_pagamento  ano_mes  \n",
       "0   300ml  Consumo no local      5        Dinheiro  2020-01  \n",
       "1   500ml  Consumo no local     11          Débito  2020-01  \n",
       "2   300ml          Delivery      7         Crédito  2020-01  \n",
       "3  1000ml  Consumo no local      7          Débito  2020-01  \n",
       "4   200ml          Delivery      9         Crédito  2020-01  "
      ]
     },
     "execution_count": 25,
     "metadata": {},
     "output_type": "execute_result"
    }
   ],
   "source": [
    "# listar as primeiras linhas\n",
    "dados.head(5)"
   ]
  },
  {
   "cell_type": "code",
   "execution_count": 26,
   "id": "8f8d674b",
   "metadata": {},
   "outputs": [
    {
     "data": {
      "text/html": [
       "<div>\n",
       "<style scoped>\n",
       "    .dataframe tbody tr th:only-of-type {\n",
       "        vertical-align: middle;\n",
       "    }\n",
       "\n",
       "    .dataframe tbody tr th {\n",
       "        vertical-align: top;\n",
       "    }\n",
       "\n",
       "    .dataframe thead th {\n",
       "        text-align: right;\n",
       "    }\n",
       "</style>\n",
       "<table border=\"1\" class=\"dataframe\">\n",
       "  <thead>\n",
       "    <tr style=\"text-align: right;\">\n",
       "      <th></th>\n",
       "      <th>id_pedido</th>\n",
       "      <th>data</th>\n",
       "      <th>loja</th>\n",
       "      <th>cidade</th>\n",
       "      <th>estado</th>\n",
       "      <th>regiao</th>\n",
       "      <th>tamanho</th>\n",
       "      <th>local_consumo</th>\n",
       "      <th>preco</th>\n",
       "      <th>forma_pagamento</th>\n",
       "      <th>ano_mes</th>\n",
       "    </tr>\n",
       "  </thead>\n",
       "  <tbody>\n",
       "    <tr>\n",
       "      <th>69995</th>\n",
       "      <td>PED67084</td>\n",
       "      <td>2022-12-31</td>\n",
       "      <td>Loja 6</td>\n",
       "      <td>Florianópolis</td>\n",
       "      <td>Santa Catarina</td>\n",
       "      <td>Sul</td>\n",
       "      <td>500ml</td>\n",
       "      <td>Consumo no local</td>\n",
       "      <td>11</td>\n",
       "      <td>Crédito</td>\n",
       "      <td>2022-12</td>\n",
       "    </tr>\n",
       "    <tr>\n",
       "      <th>69996</th>\n",
       "      <td>PED67857</td>\n",
       "      <td>2022-12-31</td>\n",
       "      <td>Loja 3</td>\n",
       "      <td>Rio de Janeiro</td>\n",
       "      <td>Rio de Janeiro</td>\n",
       "      <td>Sudeste</td>\n",
       "      <td>200ml</td>\n",
       "      <td>Consumo no local</td>\n",
       "      <td>7</td>\n",
       "      <td>Pix</td>\n",
       "      <td>2022-12</td>\n",
       "    </tr>\n",
       "    <tr>\n",
       "      <th>69997</th>\n",
       "      <td>PED69171</td>\n",
       "      <td>2022-12-31</td>\n",
       "      <td>Loja 4</td>\n",
       "      <td>Santos</td>\n",
       "      <td>São Paulo</td>\n",
       "      <td>Sudeste</td>\n",
       "      <td>500ml</td>\n",
       "      <td>Consumo no local</td>\n",
       "      <td>5</td>\n",
       "      <td>Dinheiro</td>\n",
       "      <td>2022-12</td>\n",
       "    </tr>\n",
       "    <tr>\n",
       "      <th>69998</th>\n",
       "      <td>PED69229</td>\n",
       "      <td>2022-12-31</td>\n",
       "      <td>Loja 4</td>\n",
       "      <td>Santos</td>\n",
       "      <td>São Paulo</td>\n",
       "      <td>Sudeste</td>\n",
       "      <td>300ml</td>\n",
       "      <td>Consumo no local</td>\n",
       "      <td>9</td>\n",
       "      <td>Pix</td>\n",
       "      <td>2022-12</td>\n",
       "    </tr>\n",
       "    <tr>\n",
       "      <th>69999</th>\n",
       "      <td>PED69356</td>\n",
       "      <td>2022-12-31</td>\n",
       "      <td>Loja 1</td>\n",
       "      <td>Fortaleza</td>\n",
       "      <td>Ceará</td>\n",
       "      <td>Nordeste</td>\n",
       "      <td>300ml</td>\n",
       "      <td>Delivery</td>\n",
       "      <td>9</td>\n",
       "      <td>Pix</td>\n",
       "      <td>2022-12</td>\n",
       "    </tr>\n",
       "  </tbody>\n",
       "</table>\n",
       "</div>"
      ],
      "text/plain": [
       "      id_pedido       data    loja          cidade          estado    regiao  \\\n",
       "69995  PED67084 2022-12-31  Loja 6   Florianópolis  Santa Catarina       Sul   \n",
       "69996  PED67857 2022-12-31  Loja 3  Rio de Janeiro  Rio de Janeiro   Sudeste   \n",
       "69997  PED69171 2022-12-31  Loja 4          Santos       São Paulo   Sudeste   \n",
       "69998  PED69229 2022-12-31  Loja 4          Santos       São Paulo   Sudeste   \n",
       "69999  PED69356 2022-12-31  Loja 1       Fortaleza           Ceará  Nordeste   \n",
       "\n",
       "      tamanho     local_consumo  preco forma_pagamento  ano_mes  \n",
       "69995   500ml  Consumo no local     11         Crédito  2022-12  \n",
       "69996   200ml  Consumo no local      7             Pix  2022-12  \n",
       "69997   500ml  Consumo no local      5        Dinheiro  2022-12  \n",
       "69998   300ml  Consumo no local      9             Pix  2022-12  \n",
       "69999   300ml          Delivery      9             Pix  2022-12  "
      ]
     },
     "execution_count": 26,
     "metadata": {},
     "output_type": "execute_result"
    }
   ],
   "source": [
    "# listar as ultimas linhas\n",
    "dados.tail(5)"
   ]
  },
  {
   "cell_type": "code",
   "execution_count": null,
   "id": "cc874a95",
   "metadata": {},
   "outputs": [],
   "source": [
    "# tamanho da tabela de dados\n",
    "dados.shape"
   ]
  },
  {
   "cell_type": "code",
   "execution_count": null,
   "id": "f565de31",
   "metadata": {},
   "outputs": [],
   "source": [
    "# tipos de dados\n",
    "dados.dtypes"
   ]
  },
  {
   "cell_type": "markdown",
   "id": "c5c2e224",
   "metadata": {},
   "source": [
    "## Ánalise"
   ]
  },
  {
   "cell_type": "code",
   "execution_count": 27,
   "id": "913ddf62",
   "metadata": {},
   "outputs": [
    {
     "data": {
      "text/plain": [
       "São Paulo         25660\n",
       "Rio de Janeiro    18921\n",
       "Santa Catarina    13075\n",
       "Ceará             12344\n",
       "Name: estado, dtype: int64"
      ]
     },
     "execution_count": 27,
     "metadata": {},
     "output_type": "execute_result"
    }
   ],
   "source": [
    "# total de vendas por loja, funciona com todos os dados...\n",
    "dados.estado.value_counts()"
   ]
  },
  {
   "cell_type": "code",
   "execution_count": 28,
   "id": "7fea307d",
   "metadata": {},
   "outputs": [
    {
     "data": {
      "text/plain": [
       "Santos            13483\n",
       "Florianópolis     13075\n",
       "Fortaleza         12344\n",
       "São Paulo         12177\n",
       "Rio de Janeiro    10603\n",
       "Niterói            8318\n",
       "Name: cidade, dtype: int64"
      ]
     },
     "execution_count": 28,
     "metadata": {},
     "output_type": "execute_result"
    }
   ],
   "source": [
    "# ex: cidade\n",
    "dados.cidade.value_counts()"
   ]
  },
  {
   "cell_type": "code",
   "execution_count": 29,
   "id": "e4c14a9b",
   "metadata": {},
   "outputs": [
    {
     "data": {
      "text/plain": [
       "Sudeste     44581\n",
       "Sul         13075\n",
       "Nordeste    12344\n",
       "Name: regiao, dtype: int64"
      ]
     },
     "execution_count": 29,
     "metadata": {},
     "output_type": "execute_result"
    }
   ],
   "source": [
    "# ex: região\n",
    "dados.regiao.value_counts()"
   ]
  },
  {
   "cell_type": "markdown",
   "id": "9c1df5f9",
   "metadata": {},
   "source": [
    "## Agrupamento de Dados"
   ]
  },
  {
   "cell_type": "code",
   "execution_count": 30,
   "id": "4b66a68f",
   "metadata": {},
   "outputs": [
    {
     "data": {
      "text/plain": [
       "loja\n",
       "Loja 1    103162\n",
       "Loja 2     69592\n",
       "Loja 3     88357\n",
       "Loja 4    112379\n",
       "Loja 5    102189\n",
       "Loja 6    109185\n",
       "Name: preco, dtype: int64"
      ]
     },
     "execution_count": 30,
     "metadata": {},
     "output_type": "execute_result"
    }
   ],
   "source": [
    "# faturamento por loja, funciona com todos os dados \n",
    "dados.groupby(\"loja\").preco.sum()"
   ]
  },
  {
   "cell_type": "code",
   "execution_count": 31,
   "id": "2d8523d0",
   "metadata": {},
   "outputs": [
    {
     "data": {
      "text/plain": [
       "loja\n",
       "Loja 1    8.357259\n",
       "Loja 2    8.366434\n",
       "Loja 3    8.333208\n",
       "Loja 4    8.334866\n",
       "Loja 5    8.391968\n",
       "Loja 6    8.350669\n",
       "Name: preco, dtype: float64"
      ]
     },
     "execution_count": 31,
     "metadata": {},
     "output_type": "execute_result"
    }
   ],
   "source": [
    "# ex: faturamento médio por loja\n",
    "dados.groupby(\"loja\").preco.mean()"
   ]
  },
  {
   "cell_type": "code",
   "execution_count": 32,
   "id": "133af073",
   "metadata": {},
   "outputs": [
    {
     "data": {
      "text/plain": [
       "estado\n",
       "Ceará             103162\n",
       "Rio de Janeiro    157949\n",
       "Santa Catarina    109185\n",
       "São Paulo         214568\n",
       "Name: preco, dtype: int64"
      ]
     },
     "execution_count": 32,
     "metadata": {},
     "output_type": "execute_result"
    }
   ],
   "source": [
    "# ex: faturamento por estado\n",
    "dados.groupby(\"estado\").preco.sum()"
   ]
  },
  {
   "cell_type": "code",
   "execution_count": 34,
   "id": "906f63b5",
   "metadata": {},
   "outputs": [
    {
     "data": {
      "text/html": [
       "<div>\n",
       "<style scoped>\n",
       "    .dataframe tbody tr th:only-of-type {\n",
       "        vertical-align: middle;\n",
       "    }\n",
       "\n",
       "    .dataframe tbody tr th {\n",
       "        vertical-align: top;\n",
       "    }\n",
       "\n",
       "    .dataframe thead th {\n",
       "        text-align: right;\n",
       "    }\n",
       "</style>\n",
       "<table border=\"1\" class=\"dataframe\">\n",
       "  <thead>\n",
       "    <tr style=\"text-align: right;\">\n",
       "      <th></th>\n",
       "      <th></th>\n",
       "      <th>preco</th>\n",
       "    </tr>\n",
       "    <tr>\n",
       "      <th>estado</th>\n",
       "      <th>cidade</th>\n",
       "      <th></th>\n",
       "    </tr>\n",
       "  </thead>\n",
       "  <tbody>\n",
       "    <tr>\n",
       "      <th>Ceará</th>\n",
       "      <th>Fortaleza</th>\n",
       "      <td>8.357259</td>\n",
       "    </tr>\n",
       "    <tr>\n",
       "      <th rowspan=\"2\" valign=\"top\">Rio de Janeiro</th>\n",
       "      <th>Niterói</th>\n",
       "      <td>8.366434</td>\n",
       "    </tr>\n",
       "    <tr>\n",
       "      <th>Rio de Janeiro</th>\n",
       "      <td>8.333208</td>\n",
       "    </tr>\n",
       "    <tr>\n",
       "      <th>Santa Catarina</th>\n",
       "      <th>Florianópolis</th>\n",
       "      <td>8.350669</td>\n",
       "    </tr>\n",
       "    <tr>\n",
       "      <th rowspan=\"2\" valign=\"top\">São Paulo</th>\n",
       "      <th>Santos</th>\n",
       "      <td>8.334866</td>\n",
       "    </tr>\n",
       "    <tr>\n",
       "      <th>São Paulo</th>\n",
       "      <td>8.391968</td>\n",
       "    </tr>\n",
       "  </tbody>\n",
       "</table>\n",
       "</div>"
      ],
      "text/plain": [
       "                                  preco\n",
       "estado         cidade                  \n",
       "Ceará          Fortaleza       8.357259\n",
       "Rio de Janeiro Niterói         8.366434\n",
       "               Rio de Janeiro  8.333208\n",
       "Santa Catarina Florianópolis   8.350669\n",
       "São Paulo      Santos          8.334866\n",
       "               São Paulo       8.391968"
      ]
     },
     "execution_count": 34,
     "metadata": {},
     "output_type": "execute_result"
    }
   ],
   "source": [
    "# juntando dois dados e colocando em colunas, funciona com todos os dados\n",
    "dados.groupby([\"estado\",\"cidade\"]).preco.mean().to_frame()"
   ]
  },
  {
   "cell_type": "code",
   "execution_count": 35,
   "id": "73c5eb7e",
   "metadata": {},
   "outputs": [
    {
     "data": {
      "text/html": [
       "<div>\n",
       "<style scoped>\n",
       "    .dataframe tbody tr th:only-of-type {\n",
       "        vertical-align: middle;\n",
       "    }\n",
       "\n",
       "    .dataframe tbody tr th {\n",
       "        vertical-align: top;\n",
       "    }\n",
       "\n",
       "    .dataframe thead th {\n",
       "        text-align: right;\n",
       "    }\n",
       "</style>\n",
       "<table border=\"1\" class=\"dataframe\">\n",
       "  <thead>\n",
       "    <tr style=\"text-align: right;\">\n",
       "      <th></th>\n",
       "      <th></th>\n",
       "      <th>preco</th>\n",
       "    </tr>\n",
       "    <tr>\n",
       "      <th>tamanho</th>\n",
       "      <th>preco</th>\n",
       "      <th></th>\n",
       "    </tr>\n",
       "  </thead>\n",
       "  <tbody>\n",
       "    <tr>\n",
       "      <th rowspan=\"5\" valign=\"top\">1000ml</th>\n",
       "      <th>5</th>\n",
       "      <td>5.0</td>\n",
       "    </tr>\n",
       "    <tr>\n",
       "      <th>7</th>\n",
       "      <td>7.0</td>\n",
       "    </tr>\n",
       "    <tr>\n",
       "      <th>9</th>\n",
       "      <td>9.0</td>\n",
       "    </tr>\n",
       "    <tr>\n",
       "      <th>11</th>\n",
       "      <td>11.0</td>\n",
       "    </tr>\n",
       "    <tr>\n",
       "      <th>13</th>\n",
       "      <td>13.0</td>\n",
       "    </tr>\n",
       "    <tr>\n",
       "      <th rowspan=\"5\" valign=\"top\">200ml</th>\n",
       "      <th>5</th>\n",
       "      <td>5.0</td>\n",
       "    </tr>\n",
       "    <tr>\n",
       "      <th>7</th>\n",
       "      <td>7.0</td>\n",
       "    </tr>\n",
       "    <tr>\n",
       "      <th>9</th>\n",
       "      <td>9.0</td>\n",
       "    </tr>\n",
       "    <tr>\n",
       "      <th>11</th>\n",
       "      <td>11.0</td>\n",
       "    </tr>\n",
       "    <tr>\n",
       "      <th>13</th>\n",
       "      <td>13.0</td>\n",
       "    </tr>\n",
       "    <tr>\n",
       "      <th rowspan=\"5\" valign=\"top\">300ml</th>\n",
       "      <th>5</th>\n",
       "      <td>5.0</td>\n",
       "    </tr>\n",
       "    <tr>\n",
       "      <th>7</th>\n",
       "      <td>7.0</td>\n",
       "    </tr>\n",
       "    <tr>\n",
       "      <th>9</th>\n",
       "      <td>9.0</td>\n",
       "    </tr>\n",
       "    <tr>\n",
       "      <th>11</th>\n",
       "      <td>11.0</td>\n",
       "    </tr>\n",
       "    <tr>\n",
       "      <th>13</th>\n",
       "      <td>13.0</td>\n",
       "    </tr>\n",
       "    <tr>\n",
       "      <th rowspan=\"5\" valign=\"top\">500ml</th>\n",
       "      <th>5</th>\n",
       "      <td>5.0</td>\n",
       "    </tr>\n",
       "    <tr>\n",
       "      <th>7</th>\n",
       "      <td>7.0</td>\n",
       "    </tr>\n",
       "    <tr>\n",
       "      <th>9</th>\n",
       "      <td>9.0</td>\n",
       "    </tr>\n",
       "    <tr>\n",
       "      <th>11</th>\n",
       "      <td>11.0</td>\n",
       "    </tr>\n",
       "    <tr>\n",
       "      <th>13</th>\n",
       "      <td>13.0</td>\n",
       "    </tr>\n",
       "    <tr>\n",
       "      <th rowspan=\"5\" valign=\"top\">700ml</th>\n",
       "      <th>5</th>\n",
       "      <td>5.0</td>\n",
       "    </tr>\n",
       "    <tr>\n",
       "      <th>7</th>\n",
       "      <td>7.0</td>\n",
       "    </tr>\n",
       "    <tr>\n",
       "      <th>9</th>\n",
       "      <td>9.0</td>\n",
       "    </tr>\n",
       "    <tr>\n",
       "      <th>11</th>\n",
       "      <td>11.0</td>\n",
       "    </tr>\n",
       "    <tr>\n",
       "      <th>13</th>\n",
       "      <td>13.0</td>\n",
       "    </tr>\n",
       "  </tbody>\n",
       "</table>\n",
       "</div>"
      ],
      "text/plain": [
       "               preco\n",
       "tamanho preco       \n",
       "1000ml  5        5.0\n",
       "        7        7.0\n",
       "        9        9.0\n",
       "        11      11.0\n",
       "        13      13.0\n",
       "200ml   5        5.0\n",
       "        7        7.0\n",
       "        9        9.0\n",
       "        11      11.0\n",
       "        13      13.0\n",
       "300ml   5        5.0\n",
       "        7        7.0\n",
       "        9        9.0\n",
       "        11      11.0\n",
       "        13      13.0\n",
       "500ml   5        5.0\n",
       "        7        7.0\n",
       "        9        9.0\n",
       "        11      11.0\n",
       "        13      13.0\n",
       "700ml   5        5.0\n",
       "        7        7.0\n",
       "        9        9.0\n",
       "        11      11.0\n",
       "        13      13.0"
      ]
     },
     "execution_count": 35,
     "metadata": {},
     "output_type": "execute_result"
    }
   ],
   "source": [
    "# ex: tamanho e preço\n",
    "dados.groupby([\"tamanho\",\"preco\"]).preco.mean().to_frame()"
   ]
  },
  {
   "cell_type": "code",
   "execution_count": null,
   "id": "55e1210b",
   "metadata": {},
   "outputs": [],
   "source": [
    "# para enviar no excell\n",
    "dados.groupby([\"estado\", \"cidade\"]).preco.sum().to_excel(\"Faturamento-estado-cidade.xlsx\")"
   ]
  },
  {
   "cell_type": "code",
   "execution_count": null,
   "id": "6da6df89",
   "metadata": {},
   "outputs": [],
   "source": []
  },
  {
   "cell_type": "code",
   "execution_count": null,
   "id": "0aa29327",
   "metadata": {},
   "outputs": [],
   "source": []
  },
  {
   "cell_type": "code",
   "execution_count": null,
   "id": "2edb6134",
   "metadata": {},
   "outputs": [],
   "source": []
  }
 ],
 "metadata": {
  "kernelspec": {
   "display_name": "Python 3 (ipykernel)",
   "language": "python",
   "name": "python3"
  },
  "language_info": {
   "codemirror_mode": {
    "name": "ipython",
    "version": 3
   },
   "file_extension": ".py",
   "mimetype": "text/x-python",
   "name": "python",
   "nbconvert_exporter": "python",
   "pygments_lexer": "ipython3",
   "version": "3.10.9"
  }
 },
 "nbformat": 4,
 "nbformat_minor": 5
}
